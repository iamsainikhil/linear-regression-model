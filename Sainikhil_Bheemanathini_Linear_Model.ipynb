{
 "cells": [
  {
   "cell_type": "code",
   "execution_count": 1,
   "metadata": {
    "collapsed": true
   },
   "outputs": [],
   "source": [
    "#imported packages\n",
    "import numpy as np \n",
    "import time\n",
    "from matplotlib import pyplot as plt\n",
    "import seaborn as sns\n",
    "%matplotlib inline"
   ]
  },
  {
   "cell_type": "code",
   "execution_count": 2,
   "metadata": {
    "collapsed": true
   },
   "outputs": [],
   "source": [
    "#created a deta set with \"years\" as X and \"salary\" as y\n",
    "#there is a linear relationship between X and y\n",
    "\n",
    "years = np.arange(0,40,0.5)\n",
    "np.random.seed(0)\n",
    "salary = 45000+np.sqrt(years)*16789 +np.random.normal(2000,10000,len(years))\n"
   ]
  },
  {
   "cell_type": "code",
   "execution_count": 17,
   "metadata": {
    "collapsed": false
   },
   "outputs": [
    {
     "name": "stdout",
     "output_type": "stream",
     "text": [
      "(80L, 2L)\n",
      "[[ 1.   0. ]\n",
      " [ 1.   0.5]\n",
      " [ 1.   1. ]]\n",
      "(80L,)\n"
     ]
    }
   ],
   "source": [
    "y=np.array(salary)\n",
    "\n",
    "\n",
    "X_original= np.array(years)\n",
    "\n",
    "#Created a ones vector\n",
    "ones = np.ones((X_original.shape[0],1))\n",
    "\n",
    "\n",
    "#converted X_original to a nX2 matrix, n is the number samples, and the first column of X_original is 1\n",
    "#add ones to the first vector/column in X_original \n",
    "X = np.reshape(X_original, (X_original.shape[0],1))\n",
    "X = np.concatenate((ones,X),axis=1)\n",
    "\n",
    "print(X.shape)\n",
    "print(X[0:3, :])\n",
    "print(X_original.shape)"
   ]
  },
  {
   "cell_type": "code",
   "execution_count": null,
   "metadata": {
    "collapsed": true
   },
   "outputs": [],
   "source": [
    "#In the above cell, I gave X_original since in Vectorized_update_theta function,\n",
    "#under gradient[1] multiplication------error(theta,X,y) is in order of 80*1. So, X_original has dimension of 80*1\n",
    "#Whereas X has dimension of 80*2 which would result in error for the above function and the optimum never gets executed.\n",
    "\n",
    "##This is the most important step in vectorization assignment."
   ]
  },
  {
   "cell_type": "code",
   "execution_count": 24,
   "metadata": {
    "collapsed": true
   },
   "outputs": [],
   "source": [
    "# error = y_i - y_hat_i\n",
    "def error(theta, X, y):\n",
    "    return y - (X.dot(theta))  #np.dot() multiplication\n",
    "\n",
    "# SSE (sum squared error)\n",
    "def vectorized_calculate_SSE(theta):\n",
    "    \n",
    "    return sum(error(theta, X, y)**2 )\n",
    "   \n",
    "\n",
    "def vectorized_update_theta(theta, gamma):\n",
    "    gradient=[0,0]\n",
    "    \n",
    "    \n",
    "    gradient=[0,0]\n",
    "    gradient[0] = -2*sum(error(theta, X, y) )\n",
    "    gradient[1] = -2*sum(error(theta, X, y)*X_original) #multiplication of matrices with same dimensions [80*1]\n",
    "\n",
    "    return  [theta[0]-gamma*gradient[0], theta[1]-gamma*gradient[1]]\n",
    "\n",
    "def vectorized_adaptive_optimum(theta, gamma, t, precision):\n",
    "    #infinite loop if no \"return\" is executed \n",
    "    while True:\n",
    "        #decrease gamma in every iteration\n",
    "        gamma *=t\n",
    "        \n",
    "        #store SSE \n",
    "        old_SSE = vectorized_calculate_SSE(theta)\n",
    "        \n",
    "        #update theta for a small number of time\n",
    "        for i in range(10):\n",
    "            temp_theta =vectorized_update_theta(theta, gamma) \n",
    "        \n",
    "        #get the new SSE\n",
    "        new_SSE = vectorized_calculate_SSE(temp_theta)\n",
    "        \n",
    "        # if SSE is thrinking, go to the next iteration and try a smaller gamma\n",
    "        if new_SSE > old_SSE:  \n",
    "            continue\n",
    "        \n",
    "        # if SEE does converge\n",
    "        else:\n",
    "            # try a large iteration to see if gamma can be found\n",
    "            for i in range(100000):\n",
    "                \n",
    "                #update theta and calculate new SSE\n",
    "                theta =vectorized_update_theta(theta, gamma) \n",
    "                new_SSE = vectorized_calculate_SSE(theta)\n",
    "                \n",
    "                #if the update is within the prcision \n",
    "                if abs(old_SSE - new_SSE) < precision:\n",
    "                    \n",
    "                    #print out the result and return to the function call\n",
    "                    print(\"found minimum cost:\", new_SSE)\n",
    "                    print(\"the optimum theta:\", theta)\n",
    "                    print(\"the learning rate is:\", gamma)\n",
    "                    return theta"
   ]
  },
  {
   "cell_type": "code",
   "execution_count": 29,
   "metadata": {
    "collapsed": false
   },
   "outputs": [
    {
     "name": "stdout",
     "output_type": "stream",
     "text": [
      "('found minimum cost:', 7684735996.8480816)\n",
      "('the optimum theta:', [79958.203991839677, 1864.8714513134084])\n",
      "('the learning rate is:', 3.986723479010574e-06)\n",
      "('the calculation takes ', 9.020999908447266, ' seconds.')\n"
     ]
    }
   ],
   "source": [
    "#initiate theta\n",
    "init_theta=[1,1]\n",
    "\n",
    "#start from a large learning rate\n",
    "gamma = 1\n",
    "\n",
    "#the decrease rate of gamma \n",
    "t=0.9\n",
    "\n",
    "#the precision for stopping the search. 1 unit is a $1\n",
    "precision =1\n",
    "\n",
    "#print out the time used for computing\n",
    "start_time = time.time()\n",
    "\n",
    "#call the vectorized function\n",
    "\n",
    "theta = vectorized_adaptive_optimum(init_theta,gamma,t,precision)\n",
    "print(\"the calculation takes \", time.time()-start_time, \" seconds.\")"
   ]
  },
  {
   "cell_type": "code",
   "execution_count": 38,
   "metadata": {
    "collapsed": false
   },
   "outputs": [
    {
     "data": {
      "text/plain": [
       "[<matplotlib.lines.Line2D at 0xdd759b0>]"
      ]
     },
     "execution_count": 38,
     "metadata": {},
     "output_type": "execute_result"
    },
    {
     "data": {
      "image/png": "[encoded data removed]",
      "text/plain": [
       "<matplotlib.figure.Figure at 0xdd75828>"
      ]
     },
     "metadata": {},
     "output_type": "display_data"
    }
   ],
   "source": [
    "#plot the prediction line\n",
    "\n",
    "plt.title(\"Experience vs. Salary\")\n",
    "plt.xlabel('Years of Experience (Years)')\n",
    "plt.ylabel('Salary ($)')\n",
    "plt.grid(True)\n",
    "plt.xlim(0,40)\n",
    "plt.ylim(45000,180000)\n",
    "plt.scatter(years, salary)\n",
    "\n",
    "y_hat = X.dot(theta)  #y_hat is the linear regression line with respect to years\n",
    "plt.plot(years,y_hat, color='red')\n",
    " "
   ]
  },
  {
   "cell_type": "code",
   "execution_count": null,
   "metadata": {
    "collapsed": true
   },
   "outputs": [],
   "source": [
    "#Thus, the above cell fulfills the assignment."
   ]
  }
 ],
 "metadata": {
  "anaconda-cloud": {},
  "kernelspec": {
   "display_name": "Python [default]",
   "language": "python",
   "name": "python2"
  },
  "language_info": {
   "codemirror_mode": {
    "name": "ipython",
    "version": 2
   },
   "file_extension": ".py",
   "mimetype": "text/x-python",
   "name": "python",
   "nbconvert_exporter": "python",
   "pygments_lexer": "ipython2",
   "version": "2.7.12"
  }
 },
 "nbformat": 4,
 "nbformat_minor": 0
}
